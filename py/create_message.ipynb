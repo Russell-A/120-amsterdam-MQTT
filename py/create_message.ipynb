{
 "cells": [
  {
   "cell_type": "code",
   "execution_count": null,
   "metadata": {},
   "outputs": [],
   "source": []
  },
  {
   "cell_type": "code",
   "execution_count": 1,
   "metadata": {},
   "outputs": [
    {
     "name": "stdout",
     "output_type": "stream",
     "text": [
      " Retrying in 1 seconds\n"
     ]
    },
    {
     "name": "stderr",
     "output_type": "stream",
     "text": [
      "Fontconfig warning: ignoring UTF-8: not a valid region tag\n"
     ]
    }
   ],
   "source": [
    "import traci, os, time\n",
    "\n",
    "sumoBinary = os.path.join(os.environ['SUMO_HOME'], 'bin', \"sumo-gui\")\n",
    "sumoCmd = [sumoBinary, \"-c\", \"../map/map1.sumo.cfg\", \n",
    "\"--step-length\", str(0.1),\"--start\", '--log', './log_file.txt', '--num-clients' , '1']\n",
    "traci.start(sumoCmd, port = 3500)\n",
    "traci.setOrder(1)"
   ]
  },
  {
   "cell_type": "code",
   "execution_count": 2,
   "metadata": {},
   "outputs": [],
   "source": [
    "frame = 0\n",
    "dict_frame = dict()\n",
    "while 1:\n",
    "    traci.simulationStep()\n",
    "    if (traci.vehicle.getIDCount() ==0): break\n",
    "    vehs = traci.vehicle.getIDList()\n",
    "    for id in vehs:\n",
    "        type = 'car'\n",
    "        id = id\n",
    "        heading = traci.vehicle.getAngle(id)\n",
    "        speed = traci.vehicle.getSpeed(id)\n",
    "        x,y = traci.vehicle.getPosition(id)\n",
    "        if frame in dict_frame:\n",
    "            pass\n",
    "        else:\n",
    "            dict_frame[frame] = []\n",
    "        dict_frame[frame].append((type, id, heading, speed, x, y))\n",
    "    persons = traci.person.getIDList()\n",
    "    for id in persons:\n",
    "        type = 'person'\n",
    "        id = id\n",
    "        heading = traci.person.getAngle(id)\n",
    "        speed = traci.person.getSpeed(id)\n",
    "        x,y = traci.person.getPosition(id)\n",
    "        if frame in dict_frame:\n",
    "            pass\n",
    "        else:\n",
    "            dict_frame[frame] = []\n",
    "        dict_frame[frame].append((type, id, heading, speed, x, y))\n",
    "\n",
    "    \n",
    "    frame+=1\n"
   ]
  },
  {
   "cell_type": "code",
   "execution_count": 3,
   "metadata": {},
   "outputs": [],
   "source": [
    "for frame in dict_frame.keys():\n",
    "    path = \"../messages-with-pedestrains/\"\n",
    "    filename = str(frame)+\".txt\"\n",
    "    file = open(path+filename, \"x\")\n",
    "    for item in dict_frame[frame]:\n",
    "        file.write(\"\\t\".join(str(e) for e in item))\n",
    "        file.write(\"\\n\")"
   ]
  }
 ],
 "metadata": {
  "kernelspec": {
   "display_name": "Python 3",
   "language": "python",
   "name": "python3"
  },
  "language_info": {
   "codemirror_mode": {
    "name": "ipython",
    "version": 3
   },
   "file_extension": ".py",
   "mimetype": "text/x-python",
   "name": "python",
   "nbconvert_exporter": "python",
   "pygments_lexer": "ipython3",
   "version": "3.10.8"
  },
  "orig_nbformat": 4,
  "vscode": {
   "interpreter": {
    "hash": "b0fa6594d8f4cbf19f97940f81e996739fb7646882a419484c72d19e05852a7e"
   }
  }
 },
 "nbformat": 4,
 "nbformat_minor": 2
}
